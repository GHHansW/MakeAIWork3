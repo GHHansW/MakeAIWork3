{
 "cells": [
  {
   "cell_type": "markdown",
   "id": "ce776e9e-e316-4a03-ad68-d9e0a090b894",
   "metadata": {},
   "source": [
    "https://raw.githubusercontent.com/MitwRdam/MakeAIWork/main/practica/week3/sql/notebook/sql.ipynb<div>\n",
    "    <img src='../pics/banner.PNG'/>\n",
    "</div>\n",
    "<div>\n",
    "    <img width=\"10%\" height=\"10%\" src='../pics/python-programming.png'/>\n",
    "    <img src='../pics/miw.PNG'/>\n",
    "</div>\n",
    "<div>\n",
    "    <em>Author: Jeroen Boogaard</em>\n",
    "</div>"
   ]
  },
  {
   "cell_type": "markdown",
   "id": "b57ce072-c647-44a4-8078-07045ee55df9",
   "metadata": {},
   "source": [
    "<h1>Practicum SQL </h1>"
   ]
  },
  {
   "cell_type": "markdown",
   "id": "9f080c20-09e7-415e-b4b8-91b340464972",
   "metadata": {},
   "source": [
    "<h2>Imports<h2>"
   ]
  },
  {
   "cell_type": "code",
   "execution_count": 22,
   "id": "91986813",
   "metadata": {},
   "outputs": [
    {
     "data": {
      "text/plain": [
       "1"
      ]
     },
     "execution_count": 22,
     "metadata": {},
     "output_type": "execute_result"
    }
   ],
   "source": [
    "from os import system as sys\n",
    "sys('pip install pysqlite3 --upgrade pip')"
   ]
  },
  {
   "cell_type": "code",
   "execution_count": 1,
   "id": "fc9cc22c-9b16-4f97-be97-65fa68a4f5b6",
   "metadata": {
    "tags": []
   },
   "outputs": [],
   "source": [
    "from matplotlib import pyplot as plt\n",
    "from matplotlib_venn import venn2, venn3\n",
    "from PIL import Image\n",
    "import pandas as pd\n",
    "import sqlite3"
   ]
  },
  {
   "cell_type": "markdown",
   "id": "206be2e2-1646-4b41-bc5d-e23ca9ce2199",
   "metadata": {},
   "source": [
    "<h2>Extract, Transform and Load</h2>"
   ]
  },
  {
   "cell_type": "markdown",
   "id": "27681fa7-135e-4301-9eb3-b0d945ca7f45",
   "metadata": {},
   "source": [
    "<h3>Extract</h3>"
   ]
  },
  {
   "cell_type": "code",
   "execution_count": 2,
   "id": "3dc0221e-2539-46d5-9b46-f5031b987547",
   "metadata": {
    "tags": []
   },
   "outputs": [
    {
     "ename": "FileNotFoundError",
     "evalue": "[Errno 2] No such file or directory: 'countries_europe.csv'",
     "output_type": "error",
     "traceback": [
      "\u001b[1;31m---------------------------------------------------------------------------\u001b[0m",
      "\u001b[1;31mFileNotFoundError\u001b[0m                         Traceback (most recent call last)",
      "Cell \u001b[1;32mIn[2], line 6\u001b[0m\n\u001b[0;32m      3\u001b[0m euCsvFile \u001b[38;5;241m=\u001b[39m \u001b[38;5;124m\"\u001b[39m\u001b[38;5;124meuropean_union.csv\u001b[39m\u001b[38;5;124m\"\u001b[39m\n\u001b[0;32m      5\u001b[0m  \u001b[38;5;66;03m# Create Pandas DataFrames\u001b[39;00m\n\u001b[1;32m----> 6\u001b[0m europeDF \u001b[38;5;241m=\u001b[39m \u001b[43mpd\u001b[49m\u001b[38;5;241;43m.\u001b[39;49m\u001b[43mread_csv\u001b[49m\u001b[43m(\u001b[49m\u001b[43meurCsvFile\u001b[49m\u001b[43m)\u001b[49m\n\u001b[0;32m      7\u001b[0m euDF \u001b[38;5;241m=\u001b[39m pd\u001b[38;5;241m.\u001b[39mread_csv(euCsvFile)\n\u001b[0;32m      8\u001b[0m \u001b[38;5;66;03m# print(europeDF)\u001b[39;00m\n\u001b[0;32m      9\u001b[0m \u001b[38;5;66;03m# print(euDF)\u001b[39;00m\n",
      "File \u001b[1;32m~\\mitwworkspace\\MakeAIWork2\\env\\lib\\site-packages\\pandas\\io\\parsers\\readers.py:912\u001b[0m, in \u001b[0;36mread_csv\u001b[1;34m(filepath_or_buffer, sep, delimiter, header, names, index_col, usecols, dtype, engine, converters, true_values, false_values, skipinitialspace, skiprows, skipfooter, nrows, na_values, keep_default_na, na_filter, verbose, skip_blank_lines, parse_dates, infer_datetime_format, keep_date_col, date_parser, date_format, dayfirst, cache_dates, iterator, chunksize, compression, thousands, decimal, lineterminator, quotechar, quoting, doublequote, escapechar, comment, encoding, encoding_errors, dialect, on_bad_lines, delim_whitespace, low_memory, memory_map, float_precision, storage_options, dtype_backend)\u001b[0m\n\u001b[0;32m    899\u001b[0m kwds_defaults \u001b[38;5;241m=\u001b[39m _refine_defaults_read(\n\u001b[0;32m    900\u001b[0m     dialect,\n\u001b[0;32m    901\u001b[0m     delimiter,\n\u001b[1;32m   (...)\u001b[0m\n\u001b[0;32m    908\u001b[0m     dtype_backend\u001b[38;5;241m=\u001b[39mdtype_backend,\n\u001b[0;32m    909\u001b[0m )\n\u001b[0;32m    910\u001b[0m kwds\u001b[38;5;241m.\u001b[39mupdate(kwds_defaults)\n\u001b[1;32m--> 912\u001b[0m \u001b[38;5;28;01mreturn\u001b[39;00m \u001b[43m_read\u001b[49m\u001b[43m(\u001b[49m\u001b[43mfilepath_or_buffer\u001b[49m\u001b[43m,\u001b[49m\u001b[43m \u001b[49m\u001b[43mkwds\u001b[49m\u001b[43m)\u001b[49m\n",
      "File \u001b[1;32m~\\mitwworkspace\\MakeAIWork2\\env\\lib\\site-packages\\pandas\\io\\parsers\\readers.py:577\u001b[0m, in \u001b[0;36m_read\u001b[1;34m(filepath_or_buffer, kwds)\u001b[0m\n\u001b[0;32m    574\u001b[0m _validate_names(kwds\u001b[38;5;241m.\u001b[39mget(\u001b[38;5;124m\"\u001b[39m\u001b[38;5;124mnames\u001b[39m\u001b[38;5;124m\"\u001b[39m, \u001b[38;5;28;01mNone\u001b[39;00m))\n\u001b[0;32m    576\u001b[0m \u001b[38;5;66;03m# Create the parser.\u001b[39;00m\n\u001b[1;32m--> 577\u001b[0m parser \u001b[38;5;241m=\u001b[39m TextFileReader(filepath_or_buffer, \u001b[38;5;241m*\u001b[39m\u001b[38;5;241m*\u001b[39mkwds)\n\u001b[0;32m    579\u001b[0m \u001b[38;5;28;01mif\u001b[39;00m chunksize \u001b[38;5;129;01mor\u001b[39;00m iterator:\n\u001b[0;32m    580\u001b[0m     \u001b[38;5;28;01mreturn\u001b[39;00m parser\n",
      "File \u001b[1;32m~\\mitwworkspace\\MakeAIWork2\\env\\lib\\site-packages\\pandas\\io\\parsers\\readers.py:1407\u001b[0m, in \u001b[0;36mTextFileReader.__init__\u001b[1;34m(self, f, engine, **kwds)\u001b[0m\n\u001b[0;32m   1404\u001b[0m     \u001b[38;5;28mself\u001b[39m\u001b[38;5;241m.\u001b[39moptions[\u001b[38;5;124m\"\u001b[39m\u001b[38;5;124mhas_index_names\u001b[39m\u001b[38;5;124m\"\u001b[39m] \u001b[38;5;241m=\u001b[39m kwds[\u001b[38;5;124m\"\u001b[39m\u001b[38;5;124mhas_index_names\u001b[39m\u001b[38;5;124m\"\u001b[39m]\n\u001b[0;32m   1406\u001b[0m \u001b[38;5;28mself\u001b[39m\u001b[38;5;241m.\u001b[39mhandles: IOHandles \u001b[38;5;241m|\u001b[39m \u001b[38;5;28;01mNone\u001b[39;00m \u001b[38;5;241m=\u001b[39m \u001b[38;5;28;01mNone\u001b[39;00m\n\u001b[1;32m-> 1407\u001b[0m \u001b[38;5;28mself\u001b[39m\u001b[38;5;241m.\u001b[39m_engine \u001b[38;5;241m=\u001b[39m \u001b[38;5;28;43mself\u001b[39;49m\u001b[38;5;241;43m.\u001b[39;49m\u001b[43m_make_engine\u001b[49m\u001b[43m(\u001b[49m\u001b[43mf\u001b[49m\u001b[43m,\u001b[49m\u001b[43m \u001b[49m\u001b[38;5;28;43mself\u001b[39;49m\u001b[38;5;241;43m.\u001b[39;49m\u001b[43mengine\u001b[49m\u001b[43m)\u001b[49m\n",
      "File \u001b[1;32m~\\mitwworkspace\\MakeAIWork2\\env\\lib\\site-packages\\pandas\\io\\parsers\\readers.py:1661\u001b[0m, in \u001b[0;36mTextFileReader._make_engine\u001b[1;34m(self, f, engine)\u001b[0m\n\u001b[0;32m   1659\u001b[0m     \u001b[38;5;28;01mif\u001b[39;00m \u001b[38;5;124m\"\u001b[39m\u001b[38;5;124mb\u001b[39m\u001b[38;5;124m\"\u001b[39m \u001b[38;5;129;01mnot\u001b[39;00m \u001b[38;5;129;01min\u001b[39;00m mode:\n\u001b[0;32m   1660\u001b[0m         mode \u001b[38;5;241m+\u001b[39m\u001b[38;5;241m=\u001b[39m \u001b[38;5;124m\"\u001b[39m\u001b[38;5;124mb\u001b[39m\u001b[38;5;124m\"\u001b[39m\n\u001b[1;32m-> 1661\u001b[0m \u001b[38;5;28mself\u001b[39m\u001b[38;5;241m.\u001b[39mhandles \u001b[38;5;241m=\u001b[39m \u001b[43mget_handle\u001b[49m\u001b[43m(\u001b[49m\n\u001b[0;32m   1662\u001b[0m \u001b[43m    \u001b[49m\u001b[43mf\u001b[49m\u001b[43m,\u001b[49m\n\u001b[0;32m   1663\u001b[0m \u001b[43m    \u001b[49m\u001b[43mmode\u001b[49m\u001b[43m,\u001b[49m\n\u001b[0;32m   1664\u001b[0m \u001b[43m    \u001b[49m\u001b[43mencoding\u001b[49m\u001b[38;5;241;43m=\u001b[39;49m\u001b[38;5;28;43mself\u001b[39;49m\u001b[38;5;241;43m.\u001b[39;49m\u001b[43moptions\u001b[49m\u001b[38;5;241;43m.\u001b[39;49m\u001b[43mget\u001b[49m\u001b[43m(\u001b[49m\u001b[38;5;124;43m\"\u001b[39;49m\u001b[38;5;124;43mencoding\u001b[39;49m\u001b[38;5;124;43m\"\u001b[39;49m\u001b[43m,\u001b[49m\u001b[43m \u001b[49m\u001b[38;5;28;43;01mNone\u001b[39;49;00m\u001b[43m)\u001b[49m\u001b[43m,\u001b[49m\n\u001b[0;32m   1665\u001b[0m \u001b[43m    \u001b[49m\u001b[43mcompression\u001b[49m\u001b[38;5;241;43m=\u001b[39;49m\u001b[38;5;28;43mself\u001b[39;49m\u001b[38;5;241;43m.\u001b[39;49m\u001b[43moptions\u001b[49m\u001b[38;5;241;43m.\u001b[39;49m\u001b[43mget\u001b[49m\u001b[43m(\u001b[49m\u001b[38;5;124;43m\"\u001b[39;49m\u001b[38;5;124;43mcompression\u001b[39;49m\u001b[38;5;124;43m\"\u001b[39;49m\u001b[43m,\u001b[49m\u001b[43m \u001b[49m\u001b[38;5;28;43;01mNone\u001b[39;49;00m\u001b[43m)\u001b[49m\u001b[43m,\u001b[49m\n\u001b[0;32m   1666\u001b[0m \u001b[43m    \u001b[49m\u001b[43mmemory_map\u001b[49m\u001b[38;5;241;43m=\u001b[39;49m\u001b[38;5;28;43mself\u001b[39;49m\u001b[38;5;241;43m.\u001b[39;49m\u001b[43moptions\u001b[49m\u001b[38;5;241;43m.\u001b[39;49m\u001b[43mget\u001b[49m\u001b[43m(\u001b[49m\u001b[38;5;124;43m\"\u001b[39;49m\u001b[38;5;124;43mmemory_map\u001b[39;49m\u001b[38;5;124;43m\"\u001b[39;49m\u001b[43m,\u001b[49m\u001b[43m \u001b[49m\u001b[38;5;28;43;01mFalse\u001b[39;49;00m\u001b[43m)\u001b[49m\u001b[43m,\u001b[49m\n\u001b[0;32m   1667\u001b[0m \u001b[43m    \u001b[49m\u001b[43mis_text\u001b[49m\u001b[38;5;241;43m=\u001b[39;49m\u001b[43mis_text\u001b[49m\u001b[43m,\u001b[49m\n\u001b[0;32m   1668\u001b[0m \u001b[43m    \u001b[49m\u001b[43merrors\u001b[49m\u001b[38;5;241;43m=\u001b[39;49m\u001b[38;5;28;43mself\u001b[39;49m\u001b[38;5;241;43m.\u001b[39;49m\u001b[43moptions\u001b[49m\u001b[38;5;241;43m.\u001b[39;49m\u001b[43mget\u001b[49m\u001b[43m(\u001b[49m\u001b[38;5;124;43m\"\u001b[39;49m\u001b[38;5;124;43mencoding_errors\u001b[39;49m\u001b[38;5;124;43m\"\u001b[39;49m\u001b[43m,\u001b[49m\u001b[43m \u001b[49m\u001b[38;5;124;43m\"\u001b[39;49m\u001b[38;5;124;43mstrict\u001b[39;49m\u001b[38;5;124;43m\"\u001b[39;49m\u001b[43m)\u001b[49m\u001b[43m,\u001b[49m\n\u001b[0;32m   1669\u001b[0m \u001b[43m    \u001b[49m\u001b[43mstorage_options\u001b[49m\u001b[38;5;241;43m=\u001b[39;49m\u001b[38;5;28;43mself\u001b[39;49m\u001b[38;5;241;43m.\u001b[39;49m\u001b[43moptions\u001b[49m\u001b[38;5;241;43m.\u001b[39;49m\u001b[43mget\u001b[49m\u001b[43m(\u001b[49m\u001b[38;5;124;43m\"\u001b[39;49m\u001b[38;5;124;43mstorage_options\u001b[39;49m\u001b[38;5;124;43m\"\u001b[39;49m\u001b[43m,\u001b[49m\u001b[43m \u001b[49m\u001b[38;5;28;43;01mNone\u001b[39;49;00m\u001b[43m)\u001b[49m\u001b[43m,\u001b[49m\n\u001b[0;32m   1670\u001b[0m \u001b[43m\u001b[49m\u001b[43m)\u001b[49m\n\u001b[0;32m   1671\u001b[0m \u001b[38;5;28;01massert\u001b[39;00m \u001b[38;5;28mself\u001b[39m\u001b[38;5;241m.\u001b[39mhandles \u001b[38;5;129;01mis\u001b[39;00m \u001b[38;5;129;01mnot\u001b[39;00m \u001b[38;5;28;01mNone\u001b[39;00m\n\u001b[0;32m   1672\u001b[0m f \u001b[38;5;241m=\u001b[39m \u001b[38;5;28mself\u001b[39m\u001b[38;5;241m.\u001b[39mhandles\u001b[38;5;241m.\u001b[39mhandle\n",
      "File \u001b[1;32m~\\mitwworkspace\\MakeAIWork2\\env\\lib\\site-packages\\pandas\\io\\common.py:859\u001b[0m, in \u001b[0;36mget_handle\u001b[1;34m(path_or_buf, mode, encoding, compression, memory_map, is_text, errors, storage_options)\u001b[0m\n\u001b[0;32m    854\u001b[0m \u001b[38;5;28;01melif\u001b[39;00m \u001b[38;5;28misinstance\u001b[39m(handle, \u001b[38;5;28mstr\u001b[39m):\n\u001b[0;32m    855\u001b[0m     \u001b[38;5;66;03m# Check whether the filename is to be opened in binary mode.\u001b[39;00m\n\u001b[0;32m    856\u001b[0m     \u001b[38;5;66;03m# Binary mode does not support 'encoding' and 'newline'.\u001b[39;00m\n\u001b[0;32m    857\u001b[0m     \u001b[38;5;28;01mif\u001b[39;00m ioargs\u001b[38;5;241m.\u001b[39mencoding \u001b[38;5;129;01mand\u001b[39;00m \u001b[38;5;124m\"\u001b[39m\u001b[38;5;124mb\u001b[39m\u001b[38;5;124m\"\u001b[39m \u001b[38;5;129;01mnot\u001b[39;00m \u001b[38;5;129;01min\u001b[39;00m ioargs\u001b[38;5;241m.\u001b[39mmode:\n\u001b[0;32m    858\u001b[0m         \u001b[38;5;66;03m# Encoding\u001b[39;00m\n\u001b[1;32m--> 859\u001b[0m         handle \u001b[38;5;241m=\u001b[39m \u001b[38;5;28;43mopen\u001b[39;49m\u001b[43m(\u001b[49m\n\u001b[0;32m    860\u001b[0m \u001b[43m            \u001b[49m\u001b[43mhandle\u001b[49m\u001b[43m,\u001b[49m\n\u001b[0;32m    861\u001b[0m \u001b[43m            \u001b[49m\u001b[43mioargs\u001b[49m\u001b[38;5;241;43m.\u001b[39;49m\u001b[43mmode\u001b[49m\u001b[43m,\u001b[49m\n\u001b[0;32m    862\u001b[0m \u001b[43m            \u001b[49m\u001b[43mencoding\u001b[49m\u001b[38;5;241;43m=\u001b[39;49m\u001b[43mioargs\u001b[49m\u001b[38;5;241;43m.\u001b[39;49m\u001b[43mencoding\u001b[49m\u001b[43m,\u001b[49m\n\u001b[0;32m    863\u001b[0m \u001b[43m            \u001b[49m\u001b[43merrors\u001b[49m\u001b[38;5;241;43m=\u001b[39;49m\u001b[43merrors\u001b[49m\u001b[43m,\u001b[49m\n\u001b[0;32m    864\u001b[0m \u001b[43m            \u001b[49m\u001b[43mnewline\u001b[49m\u001b[38;5;241;43m=\u001b[39;49m\u001b[38;5;124;43m\"\u001b[39;49m\u001b[38;5;124;43m\"\u001b[39;49m\u001b[43m,\u001b[49m\n\u001b[0;32m    865\u001b[0m \u001b[43m        \u001b[49m\u001b[43m)\u001b[49m\n\u001b[0;32m    866\u001b[0m     \u001b[38;5;28;01melse\u001b[39;00m:\n\u001b[0;32m    867\u001b[0m         \u001b[38;5;66;03m# Binary mode\u001b[39;00m\n\u001b[0;32m    868\u001b[0m         handle \u001b[38;5;241m=\u001b[39m \u001b[38;5;28mopen\u001b[39m(handle, ioargs\u001b[38;5;241m.\u001b[39mmode)\n",
      "\u001b[1;31mFileNotFoundError\u001b[0m: [Errno 2] No such file or directory: 'countries_europe.csv'"
     ]
    }
   ],
   "source": [
    "# https://raw.githubusercontent.com/ajturner/acetate/master/places/Countries-Europe.csv\n",
    "eurCsvFile = \"countries_europe.csv\"\n",
    "euCsvFile = \"european_union.csv\"\n",
    "\n",
    " # Create Pandas DataFrames\n",
    "europeDF = pd.read_csv(eurCsvFile)\n",
    "euDF = pd.read_csv(euCsvFile)\n",
    "# print(europeDF)\n",
    "# print(euDF)"
   ]
  },
  {
   "cell_type": "markdown",
   "id": "620dd73e-33e6-42b4-89aa-c80a12833ad1",
   "metadata": {},
   "source": [
    "<h3>Transform</h3>"
   ]
  },
  {
   "cell_type": "markdown",
   "id": "184e4908-ac20-4417-8a04-60d0a2a80f44",
   "metadata": {},
   "source": [
    "<h3>Exercise 1</h3>\n",
    "<h4>Gegeven</h4>"
   ]
  },
  {
   "cell_type": "code",
   "execution_count": 25,
   "id": "649e4d4f-bcf5-40ad-9f58-55a1481b9d8d",
   "metadata": {},
   "outputs": [
    {
     "data": {
      "text/plain": [
       "Index(['zoom', 'name', 'Unnamed: 2', 'abbreviation', 'Code', 'ISO numeric',\n",
       "       'land area km', 'population', 'latitude', 'longitude', 'continent',\n",
       "       'Group'],\n",
       "      dtype='object')"
      ]
     },
     "execution_count": 25,
     "metadata": {},
     "output_type": "execute_result"
    }
   ],
   "source": [
    "benelux = {\"Belgium\", \"Netherlands\", \"Luxembourg\"}\n",
    "nordics = {\"Denmark\", \"Finland\", \"Iceland\", \"Norway\"}\n",
    "baltics = {\"Estonia\", \"Latvia\", \"Lithuania\"}\n",
    "\n",
    "# europeDF.info()\n",
    "europeDF.columns"
   ]
  },
  {
   "cell_type": "markdown",
   "id": "cefd609d-415b-40ce-9aa8-56cf98e386ab",
   "metadata": {},
   "source": [
    "<h4>Gevraagd</h4>\n",
    "<ol>\n",
    "    <li>Voeg de kolom <u>groups</u> toe aan de dataset <u>europeDF</u> met daarin de groep waartoe een land behoort volgens bovenstaande sets</li>\n",
    "    <li>Ga na of er nog meer landengroepen zijn binnen Europa en voeg die ook toe</li>\n",
    "    <li>Sla deze verrijkte dataset op in een nieuw CSV bestand</li>\n",
    "</ol>"
   ]
  },
  {
   "cell_type": "markdown",
   "id": "950cd16a-4697-4e10-9a29-34e54145de68",
   "metadata": {},
   "source": [
    "<h4>Oplossing</h4>"
   ]
  },
  {
   "cell_type": "code",
   "execution_count": 26,
   "id": "53b02739-f585-4a33-b4b0-dcf06bf6a1c9",
   "metadata": {},
   "outputs": [
    {
     "ename": "ValueError",
     "evalue": "Length of values (1) does not match length of index (47)",
     "output_type": "error",
     "traceback": [
      "\u001b[1;31m---------------------------------------------------------------------------\u001b[0m",
      "\u001b[1;31mValueError\u001b[0m                                Traceback (most recent call last)",
      "Cell \u001b[1;32mIn[26], line 2\u001b[0m\n\u001b[0;32m      1\u001b[0m df \u001b[39m=\u001b[39mpd\u001b[39m.\u001b[39mDataFrame(europeDF)\n\u001b[1;32m----> 2\u001b[0m df\u001b[39m.\u001b[39;49minsert(\u001b[39m1\u001b[39;49m, \u001b[39m\"\u001b[39;49m\u001b[39mgroups\u001b[39;49m\u001b[39m\"\u001b[39;49m, [(\u001b[39m0\u001b[39;49m, \u001b[39m47\u001b[39;49m)])\n",
      "File \u001b[1;32mc:\\Users\\HansW\\MakeAIWork\\env\\lib\\site-packages\\pandas\\core\\frame.py:4821\u001b[0m, in \u001b[0;36mDataFrame.insert\u001b[1;34m(self, loc, column, value, allow_duplicates)\u001b[0m\n\u001b[0;32m   4818\u001b[0m \u001b[39mif\u001b[39;00m \u001b[39mnot\u001b[39;00m \u001b[39misinstance\u001b[39m(loc, \u001b[39mint\u001b[39m):\n\u001b[0;32m   4819\u001b[0m     \u001b[39mraise\u001b[39;00m \u001b[39mTypeError\u001b[39;00m(\u001b[39m\"\u001b[39m\u001b[39mloc must be int\u001b[39m\u001b[39m\"\u001b[39m)\n\u001b[1;32m-> 4821\u001b[0m value \u001b[39m=\u001b[39m \u001b[39mself\u001b[39;49m\u001b[39m.\u001b[39;49m_sanitize_column(value)\n\u001b[0;32m   4822\u001b[0m \u001b[39mself\u001b[39m\u001b[39m.\u001b[39m_mgr\u001b[39m.\u001b[39minsert(loc, column, value)\n",
      "File \u001b[1;32mc:\\Users\\HansW\\MakeAIWork\\env\\lib\\site-packages\\pandas\\core\\frame.py:4915\u001b[0m, in \u001b[0;36mDataFrame._sanitize_column\u001b[1;34m(self, value)\u001b[0m\n\u001b[0;32m   4912\u001b[0m     \u001b[39mreturn\u001b[39;00m _reindex_for_setitem(Series(value), \u001b[39mself\u001b[39m\u001b[39m.\u001b[39mindex)\n\u001b[0;32m   4914\u001b[0m \u001b[39mif\u001b[39;00m is_list_like(value):\n\u001b[1;32m-> 4915\u001b[0m     com\u001b[39m.\u001b[39;49mrequire_length_match(value, \u001b[39mself\u001b[39;49m\u001b[39m.\u001b[39;49mindex)\n\u001b[0;32m   4916\u001b[0m \u001b[39mreturn\u001b[39;00m sanitize_array(value, \u001b[39mself\u001b[39m\u001b[39m.\u001b[39mindex, copy\u001b[39m=\u001b[39m\u001b[39mTrue\u001b[39;00m, allow_2d\u001b[39m=\u001b[39m\u001b[39mTrue\u001b[39;00m)\n",
      "File \u001b[1;32mc:\\Users\\HansW\\MakeAIWork\\env\\lib\\site-packages\\pandas\\core\\common.py:571\u001b[0m, in \u001b[0;36mrequire_length_match\u001b[1;34m(data, index)\u001b[0m\n\u001b[0;32m    567\u001b[0m \u001b[39m\u001b[39m\u001b[39m\"\"\"\u001b[39;00m\n\u001b[0;32m    568\u001b[0m \u001b[39mCheck the length of data matches the length of the index.\u001b[39;00m\n\u001b[0;32m    569\u001b[0m \u001b[39m\"\"\"\u001b[39;00m\n\u001b[0;32m    570\u001b[0m \u001b[39mif\u001b[39;00m \u001b[39mlen\u001b[39m(data) \u001b[39m!=\u001b[39m \u001b[39mlen\u001b[39m(index):\n\u001b[1;32m--> 571\u001b[0m     \u001b[39mraise\u001b[39;00m \u001b[39mValueError\u001b[39;00m(\n\u001b[0;32m    572\u001b[0m         \u001b[39m\"\u001b[39m\u001b[39mLength of values \u001b[39m\u001b[39m\"\u001b[39m\n\u001b[0;32m    573\u001b[0m         \u001b[39mf\u001b[39m\u001b[39m\"\u001b[39m\u001b[39m(\u001b[39m\u001b[39m{\u001b[39;00m\u001b[39mlen\u001b[39m(data)\u001b[39m}\u001b[39;00m\u001b[39m) \u001b[39m\u001b[39m\"\u001b[39m\n\u001b[0;32m    574\u001b[0m         \u001b[39m\"\u001b[39m\u001b[39mdoes not match length of index \u001b[39m\u001b[39m\"\u001b[39m\n\u001b[0;32m    575\u001b[0m         \u001b[39mf\u001b[39m\u001b[39m\"\u001b[39m\u001b[39m(\u001b[39m\u001b[39m{\u001b[39;00m\u001b[39mlen\u001b[39m(index)\u001b[39m}\u001b[39;00m\u001b[39m)\u001b[39m\u001b[39m\"\u001b[39m\n\u001b[0;32m    576\u001b[0m     )\n",
      "\u001b[1;31mValueError\u001b[0m: Length of values (1) does not match length of index (47)"
     ]
    }
   ],
   "source": [
    "# df =pd.DataFrame(europeDF)\n",
    "# df.insert(1, \"groups\", [(0, 47)])"
   ]
  },
  {
   "cell_type": "markdown",
   "id": "3915f0da-d771-4470-93e7-8b0337b472af",
   "metadata": {
    "jupyter": {
     "source_hidden": true
    },
    "tags": []
   },
   "source": [
    "<h3>Load</h3>"
   ]
  },
  {
   "cell_type": "markdown",
   "id": "c50ff7d2-c034-43fd-b19d-24a3f4d1513f",
   "metadata": {},
   "source": [
    "<p>Maak een lege database</p>"
   ]
  },
  {
   "cell_type": "code",
   "execution_count": 27,
   "id": "a2d3575c-af21-4bb5-8585-6da463a42fdf",
   "metadata": {},
   "outputs": [
    {
     "data": {
      "text/plain": [
       "1"
      ]
     },
     "execution_count": 27,
     "metadata": {},
     "output_type": "execute_result"
    }
   ],
   "source": [
    "sys('sqlite3 db/europe.db \"VACUUM;\"')"
   ]
  },
  {
   "cell_type": "code",
   "execution_count": 28,
   "id": "2e63c59f-e85b-41c7-87a5-b1973ffa5652",
   "metadata": {},
   "outputs": [],
   "source": [
    "# Connect to SQLite database\n",
    "dbConnection = sqlite3.connect('europe.db')"
   ]
  },
  {
   "cell_type": "markdown",
   "id": "a851f75c-1b37-4bec-9f92-146f45457533",
   "metadata": {},
   "source": [
    "<p>Maak tabellen o.b.v. de dataset</p>"
   ]
  },
  {
   "cell_type": "code",
   "execution_count": 29,
   "id": "0372fa16-5ba5-4aac-874f-67566b093721",
   "metadata": {},
   "outputs": [
    {
     "data": {
      "text/plain": [
       "27"
      ]
     },
     "execution_count": 29,
     "metadata": {},
     "output_type": "execute_result"
    }
   ],
   "source": [
    "europeDF.to_sql('countries', dbConnection, if_exists='replace', index = False)\n",
    "euDF.to_sql('eu', dbConnection, if_exists='replace', index = False)"
   ]
  },
  {
   "cell_type": "code",
   "execution_count": null,
   "id": "2a44edaf",
   "metadata": {},
   "outputs": [],
   "source": [
    "#if cSet"
   ]
  },
  {
   "cell_type": "code",
   "execution_count": 30,
   "id": "5e61d66c-78ec-4798-87ec-16a553d286ae",
   "metadata": {},
   "outputs": [
    {
     "name": "stdout",
     "output_type": "stream",
     "text": [
      "[(4, 'Austria', None, 'Aus.', 'AUT', 40, 83858.0, 8205000, 47.33, 13.33, 'eu', None, 'AUT', 'Austria', '1995-01-01'), (4, 'Belgium', 'benelux', 'Bel.', 'BEL', 56, 30510.0, 10403000, 50.83, 4.0, 'eu', None, 'BEL', 'Belgium', '1958-01-01'), (3, 'Bulgaria', 'balkan', 'Blg.', 'BGR', 100, 110910.0, 7148785, 43.0, 25.0, 'eu', None, 'BGR', 'Bulgaria', '2007-01-01'), (4, 'Croatia', 'balkan', 'Cro.', 'HRV', 191, 56542.0, 4491000, 45.17, 15.5, 'eu', None, 'HRV', 'Croatia', '2013-07-01'), (4, 'Cyprus', None, 'Cyp.', 'CYP', 196, 9250.0, 1102677, 35.0, 33.0, 'asia', None, 'CYP', 'Cyprus', '2004-05-01'), (3, 'Czech Republic', None, 'Czech Rep.', 'CZE', 203, 78866.0, 10476000, 49.75, 15.0, 'eu', None, 'CZE', 'Czechia', '2004-05-01'), (3, 'Denmark', 'nordics', 'Den.', 'DNK', 208, 43094.0, 5484000, 56.0, 10.0, 'eu', None, 'DNK', 'Denmark', '1973-01-01'), (4, 'Estonia', 'baltics', 'Est.', 'EST', 233, 45226.0, 1291170, 59.0, 26.0, 'eu', None, 'EST', 'Estonia', '2004-05-01'), (3, 'Finland', 'nordics', 'Fin.', 'FIN', 246, 337030.0, 5244000, 64.0, 26.0, 'eu', None, 'FIN', 'Finland', '1995-01-01'), (3, 'France', None, 'Fr.', 'FRA', 250, 547030.0, 64768389, 46.0, 2.0, 'eu', None, 'FRA', 'France', '1958-01-01'), (3, 'Germany', None, 'Ger.', 'DEU', 276, 357021.0, 82369000, 51.5, 10.5, 'eu', None, 'DEU', 'Germany', '1958-01-01'), (3, 'Greece', None, 'Grc.', 'GRC', 300, 131940.0, 11000000, 39.0, 22.0, 'eu', None, 'GRC', 'Greece', '1981-01-01'), (4, 'Hungary', None, 'Hung.', 'HUN', 348, 93030.0, 9930000, 47.0, 20.0, 'eu', None, 'HUN', 'Hungary', '2004-05-01'), (4, 'Ireland', None, 'Ire.', 'IRL', 372, 70280.0, 4622917, 53.0, -8.0, 'eu', None, 'IRL', 'Ireland', '1973-01-01'), (3, 'Italy', None, 'Italy', 'ITA', 380, 301230.0, 58145000, 42.83, 12.83, 'eu', None, 'ITA', 'Italy', '1958-01-01'), (4, 'Latvia', 'baltics', 'Lat.', 'LVA', 428, 64589.0, 2217969, 57.0, 25.0, 'eu', None, 'LVA', 'Latvia', '2004-05-01'), (4, 'Lithuania', 'baltics', 'Lith.', 'LTU', 440, 65200.0, 3565000, 56.0, 24.0, 'eu', None, 'LTU', 'Lithuania', '2004-05-01'), (4, 'Luxembourg', 'benelux', 'Lux.', 'LUX', 442, 2586.0, 497538, 49.75, 6.17, 'eu', None, 'LUX', 'Luxembourg', '1958-01-01'), (4, 'Malta', None, 'Malta', 'MLT', 470, 316.0, 403000, 35.92, 14.43, 'eu', None, 'MLT', 'Malta', '2004-05-01'), (4, 'Netherlands', 'benelux', 'Neth.', 'NLD', 528, 41526.0, 16645000, 52.5, 5.75, 'eu', None, 'NLD', 'Netherlands', '1958-01-01'), (3, 'Poland', None, 'Pol.', 'POL', 616, 312685.0, 38500000, 52.0, 20.0, 'eu', None, 'POL', 'Poland', '2004-05-01'), (3, 'Portugal', None, 'Port.', 'PRT', 620, 92391.0, 10676000, 39.5, -8.0, 'eu', None, 'PRT', 'Portugal', '1986-01-01'), (3, 'Romania', None, 'Rom.', 'ROU', 642, 237500.0, 21959278, 46.0, 25.0, 'eu', None, 'ROU', 'Romania', '2007-01-01'), (4, 'Slovakia', None, 'Slvk.', 'SVK', 703, 48845.0, 5455000, 48.67, 19.5, 'eu', None, 'SVK', 'Slovakia', '2004-05-01'), (4, 'Slovenia', None, 'Slvn.', 'SVN', 705, 20273.0, 2007000, 46.25, 15.17, 'eu', None, 'SVN', 'Slovenia', '2004-05-01'), (3, 'Spain', None, 'Spain', 'ESP', 724, 504782.0, 46505963, 40.0, -4.0, 'eu', None, 'ESP', 'Spain', '1986-01-01'), (3, 'Sweden', 'nordics', 'Swe.', 'SWE', 752, 449964.0, 9045000, 62.0, 15.0, 'eu', None, 'SWE', 'Sweden', '1995-01-01')]\n",
      "<class 'list'>\n"
     ]
    }
   ],
   "source": [
    "dbCursor = dbConnection.cursor()\n",
    "\n",
    "query = \"\"\"\n",
    "    SELECT *\n",
    "    FROM countries\n",
    "    INNER JOIN eu\n",
    "    ON countries.Code = eu.Code\n",
    "\"\"\"\n",
    "\n",
    "result = dbCursor.execute(query).fetchall()\n",
    "print(result)\n",
    "print(type(result))"
   ]
  },
  {
   "cell_type": "code",
   "execution_count": 31,
   "id": "bc044c71-ee05-45b2-b200-9a06a98ed6dd",
   "metadata": {},
   "outputs": [
    {
     "name": "stdout",
     "output_type": "stream",
     "text": [
      "[('ALB',), ('AND',), ('AUT',), ('BEL',), ('BLR',), ('BGR',), ('BIH',), ('HRV',), ('CYP',), ('CZE',), ('DNK',), ('EST',), ('FRO',), ('FIN',), ('FRA',), ('DEU',), ('GIB',), ('GRC',), ('GGY',), ('HUN',), ('ISL',), ('IRL',), ('ITA',), ('LVA',), ('LIE',), ('LTU',), ('LUX',), ('MKD',), ('MLT',), ('MDA',), ('MCO',), ('MNE',), ('NLD',), ('NOR',), ('POL',), ('PRT',), ('ROU',), ('SMR',), ('SRB',), ('SVK',), ('SVN',), ('ESP',), ('SWE',), ('CHE',), ('GBR',), ('UKR',), ('VAT',)]\n",
      "<class 'list'>\n"
     ]
    }
   ],
   "source": [
    "query = \"\"\"\n",
    "    SELECT Code\n",
    "    FROM countries\n",
    "\"\"\"\n",
    "\n",
    "result = dbCursor.execute(query).fetchall()\n",
    "print(result)\n",
    "print(type(result))"
   ]
  },
  {
   "cell_type": "markdown",
   "id": "2a6640a3-38f5-4561-a6f1-3a4b26e2f39c",
   "metadata": {},
   "source": [
    "<h3>Exercise 2</h3>\n",
    "<p>\n",
    "    Gebruik SQL queries voor het verkrijgen van\n",
    "<ol>\n",
    "    <li>het aantal landen dat onderdeel is van de Nordics</li>\n",
    "    <li>het aantal Europese landen dat lid is van de Europese Unie</li>\n",
    "    <li>het aantal EU-landen dat deel uitmaakt van de Norics</li>\n",
    "</ol>\n",
    "</p>"
   ]
  },
  {
   "cell_type": "code",
   "execution_count": null,
   "id": "c357d10e",
   "metadata": {},
   "outputs": [
    {
     "ename": "SyntaxError",
     "evalue": "invalid syntax (1748532010.py, line 1)",
     "output_type": "error",
     "traceback": [
      "\u001b[1;36m  Cell \u001b[1;32mIn[20], line 1\u001b[1;36m\u001b[0m\n\u001b[1;33m    SELECT name, unnamed: 2\u001b[0m\n\u001b[1;37m           ^\u001b[0m\n\u001b[1;31mSyntaxError\u001b[0m\u001b[1;31m:\u001b[0m invalid syntax\n"
     ]
    }
   ],
   "source": [
    "SELECT name, unnamed: 2\n",
    "FROM europe.db\n",
    "WHERE unnamed: 2 = nordics;"
   ]
  },
  {
   "cell_type": "code",
   "execution_count": null,
   "id": "f57f3aef-7b89-4d09-a064-c63c777bebcf",
   "metadata": {},
   "outputs": [],
   "source": [
    "# Close connection to SQLite database\n",
    "dbConnection.close()"
   ]
  }
 ],
 "metadata": {
  "kernelspec": {
   "display_name": "Python 3 (ipykernel)",
   "language": "python",
   "name": "python3"
  },
  "language_info": {
   "codemirror_mode": {
    "name": "ipython",
    "version": 3
   },
   "file_extension": ".py",
   "mimetype": "text/x-python",
   "name": "python",
   "nbconvert_exporter": "python",
   "pygments_lexer": "ipython3",
   "version": "3.10.11"
  },
  "vscode": {
   "interpreter": {
    "hash": "97b63326f237cb4c2c48154cb87f36901bfecedfc714bae43e61b0254898d058"
   }
  }
 },
 "nbformat": 4,
 "nbformat_minor": 5
}
