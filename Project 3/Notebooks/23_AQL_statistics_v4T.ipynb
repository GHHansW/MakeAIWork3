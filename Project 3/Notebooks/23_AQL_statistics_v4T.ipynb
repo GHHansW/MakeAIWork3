{
 "cells": [
  {
   "cell_type": "raw",
   "id": "8bff0bbc-2a19-4030-88f3-369c19a86213",
   "metadata": {},
   "source": [
    "Klasse 1: AQL kleiner of gelijk aan 0.4\n",
    "Klasse 2: AQL tussen 0.4 en 6.5\n",
    "Klasse 3: AQL tussen 6.5 en 15.0\n",
    "Afgekeurd: AQL groter dan 15.0"
   ]
  },
  {
   "cell_type": "code",
   "execution_count": 11,
   "id": "0d89658a-1db9-4343-8f2f-7d273300d033",
   "metadata": {
    "tags": []
   },
   "outputs": [],
   "source": [
    "import random"
   ]
  },
  {
   "cell_type": "code",
   "execution_count": 12,
   "id": "7c8f4d20-4534-4539-9ccb-a1aa3f96ec9c",
   "metadata": {
    "tags": []
   },
   "outputs": [],
   "source": [
    "# # The code in this cell works, but will -in the end- always lead to the verdict : ' klasse 4'. Therefore beneath this cell another, less random, lotlist created to #test the qualification-proces\n",
    "# lotlist= list()\n",
    "# for i in range(500):\n",
    "#     a = random.randrange(1,5)\n",
    "#     lotlist.append(a)\n",
    "    \n",
    "# Meaning of the numbers in the lotlist\n",
    "# 1 = normal appel\n",
    "# 2 = blotch\n",
    "# 3 = rot\n",
    "# 4 = scab\n",
    "# print(len(lotlist))\n"
   ]
  },
  {
   "cell_type": "code",
   "execution_count": 13,
   "id": "5feda8a1-70fa-4545-9541-63604925507a",
   "metadata": {
    "tags": []
   },
   "outputs": [],
   "source": [
    "# Just for testing purposes:\n",
    "\n",
    "# lotlist= list()\n",
    "\n",
    "# for i in range(400):\n",
    "#      lotlist.append(1)\n",
    "\n",
    "# for i in range(100):\n",
    "#      lotlist.append(2)\n",
    "# print(len(lotlist))"
   ]
  },
  {
   "cell_type": "code",
   "execution_count": 14,
   "id": "b4934421-f1c2-42a5-941d-0900e40bfa1d",
   "metadata": {
    "tags": []
   },
   "outputs": [
    {
     "name": "stdout",
     "output_type": "stream",
     "text": [
      "[4, 1, 4, 3, 3, 2, 2, 2, 4, 1, 3, 2, 2, 2, 2, 2, 1, 1, 2, 4, 1, 3, 4, 3, 1, 1, 3, 2, 3, 3, 2, 4]\n",
      "32\n"
     ]
    }
   ],
   "source": [
    "sample32 = random.sample(lotlist, k=32)\n",
    "# display(sample32)\n",
    "# display(type(sample32))\n",
    "# display(len(sample32))\n",
    "\n",
    "print(sample32)\n",
    "print(len(sample32))"
   ]
  },
  {
   "cell_type": "code",
   "execution_count": 15,
   "id": "447ef7ee-74a0-4b97-960b-8147ca5a10a6",
   "metadata": {
    "tags": []
   },
   "outputs": [
    {
     "name": "stdout",
     "output_type": "stream",
     "text": [
      "7\n",
      "11\n",
      "8\n",
      "6\n",
      "25\n",
      "32\n"
     ]
    }
   ],
   "source": [
    "amount_normal = 0\n",
    "amount_blotch = 0\n",
    "amount_rot = 0\n",
    "amount_scab = 0\n",
    "amount_bad = 0\n",
    "\n",
    "for i in sample32:\n",
    "    if i == 1:  # good apple\n",
    "        amount_normal += 1\n",
    "    elif i == 2:\n",
    "        amount_blotch += 1\n",
    "        amount_bad += 1\n",
    "    elif i == 3:\n",
    "        amount_rot += 1\n",
    "        amount_bad += 1      \n",
    "    else:\n",
    "        amount_scab += 1\n",
    "        amount_bad += 1 \n",
    "print(amount_normal)   \n",
    "print(amount_blotch)   \n",
    "print(amount_rot)   \n",
    "print(amount_scab)  \n",
    "print(amount_bad)   \n",
    "print(amount_normal + amount_bad)"
   ]
  },
  {
   "cell_type": "code",
   "execution_count": 16,
   "id": "9ef97bc5-21dd-473f-952a-23fc98a8cc23",
   "metadata": {
    "tags": []
   },
   "outputs": [
    {
     "name": "stdout",
     "output_type": "stream",
     "text": [
      "{'normal': 7, 'blotched': 11, 'rotten': 8, 'scab': 6}\n"
     ]
    }
   ],
   "source": [
    "\n",
    "\n",
    "# Define the desired label distribution\n",
    "# label_distribution = {\n",
    "#     'healthy': 14,\n",
    "#     'blotch': 2,\n",
    "#     'rotten': 1,\n",
    "#     'scab': 3\n",
    "# }\n",
    "outcome_dict= {'normal': amount_normal, 'blotched': amount_blotch, 'rotten': amount_rot, 'scab': amount_scab}\n",
    "print(outcome_dict)\n"
   ]
  },
  {
   "cell_type": "code",
   "execution_count": 17,
   "id": "d17fcab5-7db8-4cf1-af1e-cb6dcc10895e",
   "metadata": {
    "tags": []
   },
   "outputs": [
    {
     "name": "stdout",
     "output_type": "stream",
     "text": [
      "32\n"
     ]
    }
   ],
   "source": [
    "tot_num_outcome_dict = len(sample32)\n",
    "print(tot_num_outcome_dict)"
   ]
  },
  {
   "cell_type": "code",
   "execution_count": 18,
   "id": "13f6540b-1bb0-4f26-80c6-5fc76d87e150",
   "metadata": {
    "tags": []
   },
   "outputs": [],
   "source": [
    "# bad_apples = tot_num_outcome_dict - outcome_dict['normal']\n",
    "# print(bad_apples)"
   ]
  },
  {
   "cell_type": "code",
   "execution_count": 19,
   "id": "2812a09f-ad7f-4598-8e68-3cba2eb916a2",
   "metadata": {
    "tags": []
   },
   "outputs": [
    {
     "name": "stdout",
     "output_type": "stream",
     "text": [
      "% slechte appels: 78.125\n"
     ]
    }
   ],
   "source": [
    "perc_bad_apples = (amount_bad/len(sample32))*100\n",
    "print(f'% slechte appels: {perc_bad_apples}')"
   ]
  },
  {
   "cell_type": "code",
   "execution_count": 20,
   "id": "cbbdd1d0-ab2c-4b8e-a45d-34a5fabbbbd6",
   "metadata": {
    "tags": []
   },
   "outputs": [
    {
     "name": "stdout",
     "output_type": "stream",
     "text": [
      "Klasse 4: naar de varkens ermee!\n"
     ]
    }
   ],
   "source": [
    "if perc_bad_apples <= 0.4:\n",
    "    print('Klasse 1: naar supermarkt')\n",
    "elif perc_bad_apples > 0.4 and perc_bad_apples < 6.5:\n",
    "    print('Klasse 2: naar appelmoesfabriek')\n",
    "elif perc_bad_apples >= 6.5 and perc_bad_apples < 15:\n",
    "    print('Klasse 3: naar appelstroopfabriek')\n",
    "else:\n",
    "    print('Klasse 4: naar de varkens ermee!')"
   ]
  },
  {
   "cell_type": "code",
   "execution_count": null,
   "id": "abeef575-344a-49fb-b448-f6d2fd485bfb",
   "metadata": {},
   "outputs": [],
   "source": []
  },
  {
   "cell_type": "code",
   "execution_count": null,
   "id": "3775a706-1951-4243-9ff5-9e13d8aa3979",
   "metadata": {},
   "outputs": [],
   "source": []
  },
  {
   "cell_type": "code",
   "execution_count": null,
   "id": "bf293b9d-28a4-4a3b-85ce-f6fcd1bab785",
   "metadata": {},
   "outputs": [],
   "source": []
  },
  {
   "cell_type": "code",
   "execution_count": null,
   "id": "8dd4d443-0021-495e-9366-6279891e7cc6",
   "metadata": {},
   "outputs": [],
   "source": []
  }
 ],
 "metadata": {
  "kernelspec": {
   "display_name": "Python 3 (ipykernel)",
   "language": "python",
   "name": "python3"
  },
  "language_info": {
   "codemirror_mode": {
    "name": "ipython",
    "version": 3
   },
   "file_extension": ".py",
   "mimetype": "text/x-python",
   "name": "python",
   "nbconvert_exporter": "python",
   "pygments_lexer": "ipython3",
   "version": "3.10.11"
  }
 },
 "nbformat": 4,
 "nbformat_minor": 5
}
