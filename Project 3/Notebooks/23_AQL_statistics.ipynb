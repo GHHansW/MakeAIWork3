{
 "cells": [
  {
   "cell_type": "markdown",
   "id": "a2b15989-3f35-49fd-ade8-dd3ed6d331f2",
   "metadata": {},
   "source": [
    "## Uitleg notebook 2: stap 2 aql toepassen en stap 3 statistieken maken"
   ]
  },
  {
   "cell_type": "code",
   "execution_count": 25,
   "id": "bc8e272e-c9eb-4528-96b8-f3af5641e254",
   "metadata": {},
   "outputs": [],
   "source": [
    "# import\n",
    "\n",
    "import torch\n",
    "import torchvision.models as models\n",
    "import torch.nn as nn\n",
    "\n",
    "import random"
   ]
  },
  {
   "cell_type": "code",
   "execution_count": null,
   "id": "a0bc95c4-2546-4df3-b562-877ab37fb4df",
   "metadata": {},
   "outputs": [],
   "source": [
    "# We offer a batch of apples (size to be determined) x times (x to be determined) to an algoritm \n",
    "# which compares the number/percentage of Healthy an not-Healthy apples in the batch(es) with a quality standard (AQL), This standard \n",
    "# will determine if, based upon the sample batches, the whole shipment is \"Healthy\" or \"not-Healthy\". The batch of apples \n",
    "# will go through the trained model. This model, with a certain accuracy\n",
    "# will, based upon image recognition, determine if an individual appe=le, is Health or not-Healthy. The score or outcome will\n",
    "# be communicated.\n",
    "# The confusionmatrix will help to understand, interpret and improve the outcome"
   ]
  },
  {
   "cell_type": "code",
   "execution_count": 1,
   "id": "81631529-c73c-4bb5-88f2-5b226c31e644",
   "metadata": {
    "tags": []
   },
   "outputs": [
    {
     "ename": "NameError",
     "evalue": "name 'device' is not defined",
     "output_type": "error",
     "traceback": [
      "\u001b[1;31m---------------------------------------------------------------------------\u001b[0m",
      "\u001b[1;31mNameError\u001b[0m                                 Traceback (most recent call last)",
      "Cell \u001b[1;32mIn[1], line 4\u001b[0m\n\u001b[0;32m      1\u001b[0m \u001b[38;5;66;03m# model importeren\u001b[39;00m\n\u001b[0;32m      2\u001b[0m \n\u001b[0;32m      3\u001b[0m \u001b[38;5;66;03m# device = torch.device(\"cuda\" if torch.cuda.is_available() else \"cpu\")\u001b[39;00m\n\u001b[1;32m----> 4\u001b[0m \u001b[38;5;28mprint\u001b[39m(\u001b[43mdevice\u001b[49m)\n\u001b[0;32m      6\u001b[0m num_classes \u001b[38;5;241m=\u001b[39m \u001b[38;5;241m4\u001b[39m\n\u001b[0;32m      8\u001b[0m resnet \u001b[38;5;241m=\u001b[39m models\u001b[38;5;241m.\u001b[39mresnet18(pretrained\u001b[38;5;241m=\u001b[39m\u001b[38;5;28;01mTrue\u001b[39;00m)\n",
      "\u001b[1;31mNameError\u001b[0m: name 'device' is not defined"
     ]
    }
   ],
   "source": [
    "# model importeren\n",
    "\n",
    "# device = torch.device(\"cuda\" if torch.cuda.is_available() else \"cpu\")\n",
    "print(device)\n",
    "\n",
    "num_classes = 4\n",
    "\n",
    "resnet = models.resnet18(pretrained=True)\n",
    "num_features = resnet.fc.in_features\n",
    "resnet.fc = nn.Linear(num_features, num_classes)\n",
    "# resnet = resnet.to(device)\n",
    "\n",
    "# resnet = torch.load(resnet, \"model_apple_resnet.pth\")\n",
    "resnet.load_state_dict(torch.load(\"../models/resnet18_1024_weights.pth\"))\n",
    "# resnet.load_state_dict(torch.load(\"model_apple_resnet.pth\"))\n",
    "\n",
    "resnet.eval()"
   ]
  },
  {
   "cell_type": "code",
   "execution_count": 57,
   "id": "d9ef4824-51a0-492f-8934-d349046f6b00",
   "metadata": {},
   "outputs": [
    {
     "ename": "AttributeError",
     "evalue": "Can't get attribute 'CNNModel' on <module '__main__'>",
     "output_type": "error",
     "traceback": [
      "\u001b[0;31m---------------------------------------------------------------------------\u001b[0m",
      "\u001b[0;31mAttributeError\u001b[0m                            Traceback (most recent call last)",
      "Cell \u001b[0;32mIn[57], line 1\u001b[0m\n\u001b[0;32m----> 1\u001b[0m model \u001b[38;5;241m=\u001b[39m \u001b[43mtorch\u001b[49m\u001b[38;5;241;43m.\u001b[39;49m\u001b[43mload\u001b[49m\u001b[43m(\u001b[49m\u001b[38;5;124;43m'\u001b[39;49m\u001b[38;5;124;43mCNN_model_apple.pth\u001b[39;49m\u001b[38;5;124;43m'\u001b[39;49m\u001b[43m)\u001b[49m\n\u001b[1;32m      2\u001b[0m model\u001b[38;5;241m.\u001b[39meval()\n",
      "File \u001b[0;32m~/miniconda3/envs/miw/lib/python3.10/site-packages/torch/serialization.py:809\u001b[0m, in \u001b[0;36mload\u001b[0;34m(f, map_location, pickle_module, weights_only, **pickle_load_args)\u001b[0m\n\u001b[1;32m    807\u001b[0m             \u001b[38;5;28;01mexcept\u001b[39;00m \u001b[38;5;167;01mRuntimeError\u001b[39;00m \u001b[38;5;28;01mas\u001b[39;00m e:\n\u001b[1;32m    808\u001b[0m                 \u001b[38;5;28;01mraise\u001b[39;00m pickle\u001b[38;5;241m.\u001b[39mUnpicklingError(UNSAFE_MESSAGE \u001b[38;5;241m+\u001b[39m \u001b[38;5;28mstr\u001b[39m(e)) \u001b[38;5;28;01mfrom\u001b[39;00m \u001b[38;5;28;01mNone\u001b[39;00m\n\u001b[0;32m--> 809\u001b[0m         \u001b[38;5;28;01mreturn\u001b[39;00m \u001b[43m_load\u001b[49m\u001b[43m(\u001b[49m\u001b[43mopened_zipfile\u001b[49m\u001b[43m,\u001b[49m\u001b[43m \u001b[49m\u001b[43mmap_location\u001b[49m\u001b[43m,\u001b[49m\u001b[43m \u001b[49m\u001b[43mpickle_module\u001b[49m\u001b[43m,\u001b[49m\u001b[43m \u001b[49m\u001b[38;5;241;43m*\u001b[39;49m\u001b[38;5;241;43m*\u001b[39;49m\u001b[43mpickle_load_args\u001b[49m\u001b[43m)\u001b[49m\n\u001b[1;32m    810\u001b[0m \u001b[38;5;28;01mif\u001b[39;00m weights_only:\n\u001b[1;32m    811\u001b[0m     \u001b[38;5;28;01mtry\u001b[39;00m:\n",
      "File \u001b[0;32m~/miniconda3/envs/miw/lib/python3.10/site-packages/torch/serialization.py:1172\u001b[0m, in \u001b[0;36m_load\u001b[0;34m(zip_file, map_location, pickle_module, pickle_file, **pickle_load_args)\u001b[0m\n\u001b[1;32m   1170\u001b[0m unpickler \u001b[38;5;241m=\u001b[39m UnpicklerWrapper(data_file, \u001b[38;5;241m*\u001b[39m\u001b[38;5;241m*\u001b[39mpickle_load_args)\n\u001b[1;32m   1171\u001b[0m unpickler\u001b[38;5;241m.\u001b[39mpersistent_load \u001b[38;5;241m=\u001b[39m persistent_load\n\u001b[0;32m-> 1172\u001b[0m result \u001b[38;5;241m=\u001b[39m \u001b[43munpickler\u001b[49m\u001b[38;5;241;43m.\u001b[39;49m\u001b[43mload\u001b[49m\u001b[43m(\u001b[49m\u001b[43m)\u001b[49m\n\u001b[1;32m   1174\u001b[0m torch\u001b[38;5;241m.\u001b[39m_utils\u001b[38;5;241m.\u001b[39m_validate_loaded_sparse_tensors()\n\u001b[1;32m   1176\u001b[0m \u001b[38;5;28;01mreturn\u001b[39;00m result\n",
      "File \u001b[0;32m~/miniconda3/envs/miw/lib/python3.10/site-packages/torch/serialization.py:1165\u001b[0m, in \u001b[0;36m_load.<locals>.UnpicklerWrapper.find_class\u001b[0;34m(self, mod_name, name)\u001b[0m\n\u001b[1;32m   1163\u001b[0m         \u001b[38;5;28;01mpass\u001b[39;00m\n\u001b[1;32m   1164\u001b[0m mod_name \u001b[38;5;241m=\u001b[39m load_module_mapping\u001b[38;5;241m.\u001b[39mget(mod_name, mod_name)\n\u001b[0;32m-> 1165\u001b[0m \u001b[38;5;28;01mreturn\u001b[39;00m \u001b[38;5;28;43msuper\u001b[39;49m\u001b[43m(\u001b[49m\u001b[43m)\u001b[49m\u001b[38;5;241;43m.\u001b[39;49m\u001b[43mfind_class\u001b[49m\u001b[43m(\u001b[49m\u001b[43mmod_name\u001b[49m\u001b[43m,\u001b[49m\u001b[43m \u001b[49m\u001b[43mname\u001b[49m\u001b[43m)\u001b[49m\n",
      "\u001b[0;31mAttributeError\u001b[0m: Can't get attribute 'CNNModel' on <module '__main__'>"
     ]
    }
   ],
   "source": [
    "model = torch.load('CNN_model_apple.pth')\n",
    "model.eval()"
   ]
  },
  {
   "cell_type": "code",
   "execution_count": null,
   "id": "9cec57ff-9061-4033-898a-a3235d8a0ae5",
   "metadata": {},
   "outputs": [],
   "source": [
    "# test set aanbieden aan model en resultaten meten\n",
    "\n",
    "# stel we bieden 500 samples aan, hoe is dan de verdeling over de vier klassen A,B,C,D\n",
    "\n",
    "# vanaf hier kunnen we AQL berekenen obv 2 klassen: goed en niet-goed\n",
    "\n",
    "# vanaf hier kunnen we AQL ook berekenen obv 4 klassen:\n",
    "- 1: supermarkt kwaliteit. Komt overeen met klasse A/Healthy\n",
    "- 2: appelmoes kwaliteit. Komt overeen met klasse B / beurs\n",
    "- 3: stroop kwaliteit. Komt overeen met klasse C: stab\n",
    "- 4: afgekeurd. Komt overeen met rotten.\n",
    "\n",
    "Stel: 500 samples met:\n",
    "classA_healthy = 350\n",
    "classB_blotch = 70\n",
    "classC_rot_ = 50\n",
    "classD_scab = 30"
   ]
  },
  {
   "cell_type": "code",
   "execution_count": 55,
   "id": "0583571a-769d-49b7-831d-6636fce6c73b",
   "metadata": {},
   "outputs": [
    {
     "name": "stdout",
     "output_type": "stream",
     "text": [
      "Number of bad apples: 75\n",
      "Number of good apples: 425\n",
      "The AVERAGE number of bad apples found is 2.8\n",
      "The MAXIMUM number of bad apples found is 6\n"
     ]
    }
   ],
   "source": [
    "# aql \n",
    "\n",
    "#----------------------------------------\n",
    "\n",
    "# import random as rd\n",
    "\n",
    "#----------------------------------------\n",
    "\n",
    "# Define the params\n",
    "lotSize = 500\n",
    "sampleSize = 16\n",
    "\n",
    "# Level is defined as percentage\n",
    "aql = 15 / 100\n",
    "\n",
    "#----------------------------------------\n",
    "\n",
    "# No pun intended!\n",
    "numBadApples = round(aql * lotSize)\n",
    "numGoodApples = lotSize - numBadApples\n",
    "\n",
    "print(f\"Number of bad apples: {numBadApples}\")\n",
    "print(f\"Number of good apples: {numGoodApples}\")\n",
    "\n",
    "applesBatch = []\n",
    "\n",
    "# Append bad cups (encoded as 0)\n",
    "for i in range(numBadApples):\n",
    "\n",
    "    applesBatch.append(0)\n",
    "\n",
    "# Append good cups (encoded as 1)\n",
    "for i in range(numGoodApples):\n",
    "\n",
    "    applesBatch.append(1)\n",
    "\n",
    "#----------------------------------------\n",
    "\n",
    "inspectionRounds = 10\n",
    "\n",
    "results = []\n",
    "\n",
    "for i in range(inspectionRounds):\n",
    "\n",
    "    # Draw some random apples from the batch\n",
    "    samples = random.sample(applesBatch, k = sampleSize)\n",
    "    # kan je met sample ook twee keer dezelfde trekken? Check inbouwen?\n",
    "    \n",
    "    # Start fresh\n",
    "    bads = 0\n",
    "\n",
    "    # Count the number of bad apples\n",
    "    for s in samples:\n",
    "\n",
    "        # Bad apple?\n",
    "        if s == 0:\n",
    "\n",
    "            bads += 1\n",
    "\n",
    "    # Store in results list\n",
    "    results.append(bads)\n",
    "\n",
    "#----------------------------------------\n",
    "\n",
    "# Extract some statistics\n",
    "avgBads = sum(results) / len(results)\n",
    "maxBads = max(results)\n",
    "\n",
    "print(f\"The AVERAGE number of bad apples found is {avgBads}\")\n",
    "print(f\"The MAXIMUM number of bad apples found is {maxBads}\")\n",
    "\n",
    "#----------------------------------------"
   ]
  },
  {
   "cell_type": "code",
   "execution_count": null,
   "id": "99b0bb8c-f255-49e9-9e61-f3da825c429d",
   "metadata": {},
   "outputs": [],
   "source": [
    "# statistieken"
   ]
  }
 ],
 "metadata": {
  "kernelspec": {
   "display_name": "Python 3 (ipykernel)",
   "language": "python",
   "name": "python3"
  },
  "language_info": {
   "codemirror_mode": {
    "name": "ipython",
    "version": 3
   },
   "file_extension": ".py",
   "mimetype": "text/x-python",
   "name": "python",
   "nbconvert_exporter": "python",
   "pygments_lexer": "ipython3",
   "version": "3.10.11"
  }
 },
 "nbformat": 4,
 "nbformat_minor": 5
}
